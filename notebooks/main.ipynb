{
 "cells": [
  {
   "attachments": {},
   "cell_type": "markdown",
   "metadata": {},
   "source": [
    "# Download data\n",
    "-------------------------"
   ]
  },
  {
   "cell_type": "markdown",
   "metadata": {},
   "source": [
    "# Imports"
   ]
  },
  {
   "cell_type": "code",
   "execution_count": 45,
   "metadata": {},
   "outputs": [
    {
     "name": "stdout",
     "output_type": "stream",
     "text": [
      "The autoreload extension is already loaded. To reload it, use:\n",
      "  %reload_ext autoreload\n"
     ]
    }
   ],
   "source": [
    "%load_ext autoreload\n",
    "%autoreload 2"
   ]
  },
  {
   "cell_type": "code",
   "execution_count": 46,
   "metadata": {},
   "outputs": [],
   "source": [
    "import os\n",
    "import pandas as pd\n",
    "from pathlib import Path\n",
    "import sys\n",
    "sys.path.insert(0, '..')\n",
    "\n",
    "from src.utils.utils import save_csv, create_directory, download_file_from_url, unzip_file"
   ]
  },
  {
   "cell_type": "code",
   "execution_count": 47,
   "metadata": {},
   "outputs": [],
   "source": [
    "# Find .env automagically by walking up directories until it's found, then load up the .env entries as environment variables\n",
    "from dotenv import find_dotenv, load_dotenv\n",
    "load_dotenv(find_dotenv())\n",
    "project_dir = os.path.join(os.path.dirname('.env'), os.pardir)\n",
    "\n",
    "DATA_DIR = os.path.join(project_dir, os.environ.get(\"DATA_DIR\"))\n",
    "EXTERNAL_DATA_DIR = os.path.join(project_dir, os.environ.get(\"EXTERNAL_DATA_DIR\"))\n",
    "RAW_DATA_DIR = os.path.join(project_dir, os.environ.get(\"RAW_DATA_DIR\"))\n",
    "PROCESSED_DATA_DIR = os.path.join(project_dir, os.environ.get(\"PROCESSED_DATA_DIR\"))"
   ]
  },
  {
   "cell_type": "code",
   "execution_count": 48,
   "metadata": {},
   "outputs": [],
   "source": [
    "RAW_ZIP_DATA_DIR = RAW_DATA_DIR + 'zip/'\n",
    "RAW_CSV_DATA_DIR = RAW_DATA_DIR + 'csv/'"
   ]
  },
  {
   "attachments": {},
   "cell_type": "markdown",
   "metadata": {},
   "source": [
    "# Part 1 - Load data"
   ]
  },
  {
   "cell_type": "code",
   "execution_count": 49,
   "metadata": {},
   "outputs": [
    {
     "name": "stderr",
     "output_type": "stream",
     "text": [
      "C:\\Users\\louis\\AppData\\Local\\Temp\\ipykernel_31148\\1527058827.py:2: DtypeWarning: Columns (0) have mixed types. Specify dtype option on import or set low_memory=False.\n",
      "  df = pd.read_csv(file_path, sep=' ', header=None, names=['something', 'id', 'url'])\n"
     ]
    },
    {
     "data": {
      "text/html": [
       "<div>\n",
       "<style scoped>\n",
       "    .dataframe tbody tr th:only-of-type {\n",
       "        vertical-align: middle;\n",
       "    }\n",
       "\n",
       "    .dataframe tbody tr th {\n",
       "        vertical-align: top;\n",
       "    }\n",
       "\n",
       "    .dataframe thead th {\n",
       "        text-align: right;\n",
       "    }\n",
       "</style>\n",
       "<table border=\"1\" class=\"dataframe\">\n",
       "  <thead>\n",
       "    <tr style=\"text-align: right;\">\n",
       "      <th></th>\n",
       "      <th>something</th>\n",
       "      <th>id</th>\n",
       "      <th>url</th>\n",
       "    </tr>\n",
       "  </thead>\n",
       "  <tbody>\n",
       "    <tr>\n",
       "      <th>0</th>\n",
       "      <td>150383</td>\n",
       "      <td>297a16b493de7cf6ca809a7cc31d0b93</td>\n",
       "      <td>http://data.gdeltproject.org/gdeltv2/201502182...</td>\n",
       "    </tr>\n",
       "    <tr>\n",
       "      <th>1</th>\n",
       "      <td>318084</td>\n",
       "      <td>bb27f78ba45f69a17ea6ed7755e9f8ff</td>\n",
       "      <td>http://data.gdeltproject.org/gdeltv2/201502182...</td>\n",
       "    </tr>\n",
       "    <tr>\n",
       "      <th>2</th>\n",
       "      <td>10768507</td>\n",
       "      <td>ea8dde0beb0ba98810a92db068c0ce99</td>\n",
       "      <td>http://data.gdeltproject.org/gdeltv2/201502182...</td>\n",
       "    </tr>\n",
       "    <tr>\n",
       "      <th>3</th>\n",
       "      <td>149211</td>\n",
       "      <td>2a91041d7e72b0fc6a629e2ff867b240</td>\n",
       "      <td>http://data.gdeltproject.org/gdeltv2/201502182...</td>\n",
       "    </tr>\n",
       "    <tr>\n",
       "      <th>4</th>\n",
       "      <td>339037</td>\n",
       "      <td>dec3f427076b716a8112b9086c342523</td>\n",
       "      <td>http://data.gdeltproject.org/gdeltv2/201502182...</td>\n",
       "    </tr>\n",
       "    <tr>\n",
       "      <th>...</th>\n",
       "      <td>...</td>\n",
       "      <td>...</td>\n",
       "      <td>...</td>\n",
       "    </tr>\n",
       "    <tr>\n",
       "      <th>814786</th>\n",
       "      <td>108304</td>\n",
       "      <td>81dbf12b7dae6baa0cac2d2f9d5ef42c</td>\n",
       "      <td>http://data.gdeltproject.org/gdeltv2/202301131...</td>\n",
       "    </tr>\n",
       "    <tr>\n",
       "      <th>814787</th>\n",
       "      <td>5336143</td>\n",
       "      <td>22c9f0e26855dcbd48a0f3c7a3d91906</td>\n",
       "      <td>http://data.gdeltproject.org/gdeltv2/202301131...</td>\n",
       "    </tr>\n",
       "    <tr>\n",
       "      <th>814788</th>\n",
       "      <td>77342</td>\n",
       "      <td>0c14e3c325fc7a064e851e9fe0f05734</td>\n",
       "      <td>http://data.gdeltproject.org/gdeltv2/202301131...</td>\n",
       "    </tr>\n",
       "    <tr>\n",
       "      <th>814789</th>\n",
       "      <td>128699</td>\n",
       "      <td>669f07e39c97541f908c5b3aaad00d43</td>\n",
       "      <td>http://data.gdeltproject.org/gdeltv2/202301131...</td>\n",
       "    </tr>\n",
       "    <tr>\n",
       "      <th>814790</th>\n",
       "      <td>5810853</td>\n",
       "      <td>55c5368a04353a893b7db8443e99b15b</td>\n",
       "      <td>http://data.gdeltproject.org/gdeltv2/202301131...</td>\n",
       "    </tr>\n",
       "  </tbody>\n",
       "</table>\n",
       "<p>814791 rows × 3 columns</p>\n",
       "</div>"
      ],
      "text/plain": [
       "       something                                id  \\\n",
       "0         150383  297a16b493de7cf6ca809a7cc31d0b93   \n",
       "1         318084  bb27f78ba45f69a17ea6ed7755e9f8ff   \n",
       "2       10768507  ea8dde0beb0ba98810a92db068c0ce99   \n",
       "3         149211  2a91041d7e72b0fc6a629e2ff867b240   \n",
       "4         339037  dec3f427076b716a8112b9086c342523   \n",
       "...          ...                               ...   \n",
       "814786    108304  81dbf12b7dae6baa0cac2d2f9d5ef42c   \n",
       "814787   5336143  22c9f0e26855dcbd48a0f3c7a3d91906   \n",
       "814788     77342  0c14e3c325fc7a064e851e9fe0f05734   \n",
       "814789    128699  669f07e39c97541f908c5b3aaad00d43   \n",
       "814790   5810853  55c5368a04353a893b7db8443e99b15b   \n",
       "\n",
       "                                                      url  \n",
       "0       http://data.gdeltproject.org/gdeltv2/201502182...  \n",
       "1       http://data.gdeltproject.org/gdeltv2/201502182...  \n",
       "2       http://data.gdeltproject.org/gdeltv2/201502182...  \n",
       "3       http://data.gdeltproject.org/gdeltv2/201502182...  \n",
       "4       http://data.gdeltproject.org/gdeltv2/201502182...  \n",
       "...                                                   ...  \n",
       "814786  http://data.gdeltproject.org/gdeltv2/202301131...  \n",
       "814787  http://data.gdeltproject.org/gdeltv2/202301131...  \n",
       "814788  http://data.gdeltproject.org/gdeltv2/202301131...  \n",
       "814789  http://data.gdeltproject.org/gdeltv2/202301131...  \n",
       "814790  http://data.gdeltproject.org/gdeltv2/202301131...  \n",
       "\n",
       "[814791 rows x 3 columns]"
      ]
     },
     "execution_count": 49,
     "metadata": {},
     "output_type": "execute_result"
    }
   ],
   "source": [
    "file_path = os.path.join(RAW_DATA_DIR, 'master_file_list.txt')\n",
    "df = pd.read_csv(file_path, sep=' ', header=None, names=['something', 'id', 'url'])\n",
    "df"
   ]
  },
  {
   "cell_type": "code",
   "execution_count": 83,
   "metadata": {},
   "outputs": [
    {
     "name": "stdout",
     "output_type": "stream",
     "text": [
      "[0/5] File '..\\./data/raw/zip/20150218230000.export.CSV.zip' already exists.\n",
      "[0/5] File '..\\./data/raw/csv/20150218230000.export.CSV' already exists.\n",
      "[1/5] File '..\\./data/raw/zip/20150218230000.mentions.CSV.zip' already exists.\n",
      "[1/5] File '..\\./data/raw/csv/20150218230000.mentions.CSV' already exists.\n",
      "[2/5] File '..\\./data/raw/zip/20150218230000.gkg.csv.zip' already exists.\n",
      "[2/5] File '..\\./data/raw/csv/20150218230000.gkg.csv' already exists.\n",
      "[3/5] File '..\\./data/raw/zip/20150218231500.export.CSV.zip' already exists.\n",
      "[3/5] File '..\\./data/raw/csv/20150218231500.export.CSV' already exists.\n",
      "[4/5] File '..\\./data/raw/zip/20150218231500.mentions.CSV.zip' already exists.\n",
      "[4/5] File '..\\./data/raw/csv/20150218231500.mentions.CSV' already exists.\n"
     ]
    }
   ],
   "source": [
    "urls_to_process = df['url'].tolist()\n",
    "\n",
    "n_urls = 5\n",
    "urls_to_process = urls_to_process[:n_urls]\n",
    "\n",
    "for row, url in enumerate(urls_to_process):\n",
    "    zip_file_path = os.path.join(RAW_ZIP_DATA_DIR, Path(url).name)\n",
    "    csv_file_path = os.path.join(RAW_CSV_DATA_DIR, Path(url).stem)\n",
    " \n",
    "    # Download data from remote url to data/raw/zip\n",
    "    create_directory(RAW_ZIP_DATA_DIR)\n",
    "    if not os.path.isfile(zip_file_path):\n",
    "        download_file_from_url(remote_url=url, local_dir=RAW_ZIP_DATA_DIR, verbose=True)\n",
    "    else:\n",
    "        print(f\"[{row}/{len(urls_to_process)}] File '{zip_file_path}' already exists.\")\n",
    "\n",
    "\n",
    "    # Unzip file within data/raw/url to data/raw/csv\n",
    "    create_directory(RAW_CSV_DATA_DIR)\n",
    "    if not os.path.isfile(csv_file_path):\n",
    "        unzip_file(zip_file_path, RAW_CSV_DATA_DIR, verbose=True)\n",
    "    else:\n",
    "        print(f\"[{row}/{len(urls_to_process)}] File '{csv_file_path}' already exists.\")"
   ]
  },
  {
   "cell_type": "code",
   "execution_count": 78,
   "metadata": {},
   "outputs": [
    {
     "name": "stdout",
     "output_type": "stream",
     "text": [
      "2 csv file found within ..\\./data/raw/csv/\n"
     ]
    },
    {
     "data": {
      "text/plain": [
       "['20150218230000.export.CSV', '20150218230000.mentions.CSV']"
      ]
     },
     "execution_count": 78,
     "metadata": {},
     "output_type": "execute_result"
    }
   ],
   "source": [
    "csv_files = [f for f in os.listdir(RAW_CSV_DATA_DIR)]\n",
    "print(f\"{len(csv_files)} csv file found within {RAW_CSV_DATA_DIR}\")\n",
    "csv_files"
   ]
  },
  {
   "cell_type": "code",
   "execution_count": 52,
   "metadata": {},
   "outputs": [],
   "source": [
    "# df_csv = pd.DataFrame()\n",
    "# for csv_file in csv_files:\n",
    "#     csv_path = RAW_CSV_DATA_DIR+csv_file\n",
    "#     print(csv_path)\n",
    "#     df_tmp = pd.read_csv(csv_path, sep='\\t', header=None)\n",
    "#     df_csv = pd.concat([df_csv, df_tmp], ignore_index=True)\n",
    "# df_csv"
   ]
  },
  {
   "cell_type": "code",
   "execution_count": 53,
   "metadata": {},
   "outputs": [],
   "source": [
    "# ssh lbrejon-21@tp-1a252-20.enst.fr\n",
    "# ssh lbrejon-21@tp-1a252-21.enst.fr"
   ]
  },
  {
   "cell_type": "code",
   "execution_count": 54,
   "metadata": {},
   "outputs": [],
   "source": [
    "# cd /home/users/lbrejon-21"
   ]
  },
  {
   "cell_type": "code",
   "execution_count": 55,
   "metadata": {},
   "outputs": [],
   "source": [
    "# ssh lbrejon-21@ssh.enst.fr \n",
    "# ssh ubuntu@137.194.211.146\n",
    "# ssh tp-hadoop-55"
   ]
  }
 ],
 "metadata": {
  "kernelspec": {
   "display_name": "env_telecom_paris",
   "language": "python",
   "name": "python3"
  },
  "language_info": {
   "codemirror_mode": {
    "name": "ipython",
    "version": 3
   },
   "file_extension": ".py",
   "mimetype": "text/x-python",
   "name": "python",
   "nbconvert_exporter": "python",
   "pygments_lexer": "ipython3",
   "version": "3.10.9"
  },
  "orig_nbformat": 4,
  "vscode": {
   "interpreter": {
    "hash": "1438fcff661187e962cd90992d5b725d8668c00dc3f5feaddb6740b55bd88082"
   }
  }
 },
 "nbformat": 4,
 "nbformat_minor": 2
}
