{
 "cells": [
  {
   "cell_type": "markdown",
   "id": "8875b04e",
   "metadata": {},
   "source": [
    "# Extract (Depuis AWS S3) - Transform - Load (Dans MongoDB) STEP"
   ]
  },
  {
   "cell_type": "code",
   "execution_count": 1,
   "id": "afd0c053",
   "metadata": {},
   "outputs": [],
   "source": [
    "# IMPORTS\n",
    "\n",
    "import findspark\n",
    "from pyspark.sql import functions as F\n",
    "from pyspark.sql.types import StringType\n",
    "\n",
    "findspark.init() \n",
    "\n",
    "# AWS - HADOOP CONFIGURATION\n",
    "\n",
    "hadoopConf = sc._jsc.hadoopConfiguration()\n",
    "sc.setSystemProperty(\"com.amazonaws.services.s3.enableV4\", \"true\")\n",
    "hadoopConf.set(\"fs.s3a.region\",  \"eu-west-3\")\n",
    "hadoopConf.set(\"fs.s3a.endpoint\", \"s3.eu-west-3.amazonaws.com\")\n",
    "hadoopConf.set(\"com.amazonaws.services.s3a.enableV4\", \"true\")\n",
    "hadoopConf.set(\"fs.s3a.impl\", \"org.apache.hadoop.fs.s3a.S3AFileSystem\")\n",
    "hadoopConf.set(\"fs.store.audit.AuditSpanSource\", \"org.apache.hadoop.fs.store.audit.AuditSpanSource\")\n",
    "hadoopConf.set('fs.s3a.aws.credentials.provider', 'org.apache.hadoop.fs.s3a.SimpleAWSCredentialsProvider')\n",
    "\n",
    "# Spark Session\n",
    "sql = SparkSession(sc) "
   ]
  },
  {
   "cell_type": "code",
   "execution_count": 3,
   "id": "655407ab",
   "metadata": {},
   "outputs": [
    {
     "name": "stderr",
     "output_type": "stream",
     "text": [
      "                                                                                \r"
     ]
    }
   ],
   "source": [
    "# Lecture de tout les csv dans les dossier export / mentions / gkg (La concaténation se fait automatiquement :D)\n",
    "\n",
    "dfe = sql.read.csv('s3a://gdelt-nosql/export/*.CSV', sep =',')   # Un seul dataframe (export) complet \n",
    "dfm = sql.read.csv('s3a://gdelt-nosql/mentions/*.CSV', sep =',') # Un seul dataframe (mentions) complet \n",
    "dfg = sql.read.csv('s3a://gdelt-nosql/gkg/*.csv', sep =',') # Un seul dataframe (gkg) complet "
   ]
  },
  {
   "cell_type": "markdown",
   "id": "ca962b2b",
   "metadata": {},
   "source": [
    "## Preprocessing"
   ]
  },
  {
   "cell_type": "markdown",
   "id": "eff25965",
   "metadata": {},
   "source": [
    "### Preprocessing dataframe mentions "
   ]
  },
  {
   "cell_type": "code",
   "execution_count": 4,
   "id": "077e174d",
   "metadata": {},
   "outputs": [
    {
     "name": "stdout",
     "output_type": "stream",
     "text": [
      "+-------------+-------------------+-------------------+------------+--------------+-------------+\n",
      "|GLOBALEVENTID|      EventTimeDate|    MentionTimeDate|Day_mentions|Month_mentions|Year_mentions|\n",
      "+-------------+-------------------+-------------------+------------+--------------+-------------+\n",
      "|    410514364|2015-02-19 09:30:00|2015-02-19 09:30:00|          19|             2|         2015|\n",
      "|    410514365|2015-02-19 09:30:00|2015-02-19 09:30:00|          19|             2|         2015|\n",
      "|    410476968|2015-02-19 03:15:00|2015-02-19 09:30:00|          19|             2|         2015|\n",
      "|    410514366|2015-02-19 09:30:00|2015-02-19 09:30:00|          19|             2|         2015|\n",
      "|    410514367|2015-02-19 09:30:00|2015-02-19 09:30:00|          19|             2|         2015|\n",
      "|    410476969|2015-02-19 03:15:00|2015-02-19 09:30:00|          19|             2|         2015|\n",
      "|    410514368|2015-02-19 09:30:00|2015-02-19 09:30:00|          19|             2|         2015|\n",
      "|    410514369|2015-02-19 09:30:00|2015-02-19 09:30:00|          19|             2|         2015|\n",
      "|    410514370|2015-02-19 09:30:00|2015-02-19 09:30:00|          19|             2|         2015|\n",
      "|    410514371|2015-02-19 09:30:00|2015-02-19 09:30:00|          19|             2|         2015|\n",
      "+-------------+-------------------+-------------------+------------+--------------+-------------+\n",
      "only showing top 10 rows\n",
      "\n"
     ]
    },
    {
     "name": "stderr",
     "output_type": "stream",
     "text": [
      "                                                                                \r"
     ]
    }
   ],
   "source": [
    "mentions = dfm \\\n",
    "    .selectExpr(\"_c1 as GLOBALEVENTID\", \"_c2 as EventTimeDate\", \"_c3 as MentionTimeDate\") \\\n",
    "    .filter(F.col('GLOBALEVENTID') != '0') \\\n",
    "    .withColumn('EventTimeDate', F.to_timestamp(F.col('EventTimeDate'), 'yyyMMddHHmmss')) \\\n",
    "    .withColumn('MentionTimeDate', F.to_timestamp(F.col('MentionTimeDate'), 'yyyMMddHHmmss'))\\\n",
    "    .withColumn('Day_mentions', F.dayofmonth(F.col('EventTimeDate'))) \\\n",
    "    .withColumn('Month_mentions', F.month(F.col('EventTimeDate'))) \\\n",
    "    .withColumn('Year_mentions', F.year(F.col('EventTimeDate'))) \\\n",
    "    .na.drop() \n",
    "\n",
    "mentions.show(10)"
   ]
  },
  {
   "cell_type": "markdown",
   "id": "594cdc54",
   "metadata": {},
   "source": [
    "### Preprocessing dataframe export"
   ]
  },
  {
   "cell_type": "code",
   "execution_count": 5,
   "id": "a558c306",
   "metadata": {},
   "outputs": [
    {
     "name": "stdout",
     "output_type": "stream",
     "text": [
      "+-------------+----------+----------+----------+---------------------+----------+\n",
      "|GLOBALEVENTID|   SQLDATE|Actor1Code|Actor2Code|ActionGeo_CountryCode|Day_export|\n",
      "+-------------+----------+----------+----------+---------------------+----------+\n",
      "|    410514394|2014-02-19|       AFG|       IRN|                   AF|        19|\n",
      "|    410514395|2014-02-19|       AFG|       IRN|                   IR|        19|\n",
      "|    410514396|2014-02-19|       AFG|       IRN|                   IR|        19|\n",
      "|    410514397|2014-02-19|       AFR|       ARE|                   SF|        19|\n",
      "|    410514399|2014-02-19|       ARE|    AREGOV|                   AE|        19|\n",
      "|    410514400|2014-02-19|       ARE|       GOV|                   AE|        19|\n",
      "|    410514401|2014-02-19|       ARE|       GOV|                   BA|        19|\n",
      "|    410514402|2014-02-19|       ARE|       GOV|                   AE|        19|\n",
      "|    410514403|2014-02-19|       ARE|       GOV|                   BA|        19|\n",
      "|    410514404|2014-02-19|       ARE|       QAT|                   EG|        19|\n",
      "+-------------+----------+----------+----------+---------------------+----------+\n",
      "only showing top 10 rows\n",
      "\n"
     ]
    }
   ],
   "source": [
    "export = dfe \\\n",
    "        .selectExpr(\"_c1 as GLOBALEVENTID\", \"_c2 as SQLDATE\", \"_c4 as Actor1Code\", \"_c5 as Actor2Code\", \"_c6 as ActionGeo_CountryCode\") \\\n",
    "        .withColumn('SQLDATE', F.to_date(F.col('SQLDATE'), \"yyyyMMdd\")) \\\n",
    "        .withColumn('Day_export', F.dayofmonth(F.col('SQLDATE'))) \\\n",
    "        .na.drop()\n",
    "\n",
    "export.show(10)"
   ]
  },
  {
   "cell_type": "markdown",
   "id": "292dc1cf",
   "metadata": {},
   "source": [
    "### Preprocessing dataframe GKG"
   ]
  },
  {
   "cell_type": "code",
   "execution_count": 6,
   "id": "24e78909",
   "metadata": {},
   "outputs": [
    {
     "name": "stderr",
     "output_type": "stream",
     "text": [
      "[Stage 12:>                                                         (0 + 1) / 1]\r"
     ]
    },
    {
     "name": "stdout",
     "output_type": "stream",
     "text": [
      "+-----------------+-------------------+----------------+--------------------+--------------------+--------------------+--------------------+-------+---------+--------+\n",
      "|      GKGRECORDID|               DATE|SourceCommonName|              Themes|           Locations|             Persons|              V2Tone|Day_gkg|Month_gkg|Year_gkg|\n",
      "+-----------------+-------------------+----------------+--------------------+--------------------+--------------------+--------------------+-------+---------+--------+\n",
      "| 20150219093000-2|2015-02-19 09:30:00|  BBC Monitoring|[GENERAL_GOVERNME...|4#Berlin, Berlin,...|    [denys pushylin]|1.91387559808612,...|     19|        2|    2015|\n",
      "| 20150219093000-3|2015-02-19 09:30:00|  BBC Monitoring|[MEDIA_MSM, LEADE...|3#Washington, Dis...|[barack obama, ba...|-5.40540540540541...|     19|        2|    2015|\n",
      "| 20150219093000-5|2015-02-19 09:30:00|  BBC Monitoring|[TERROR, ARMEDCON...|1#Russia#AF#RS#60...|  [petro poroshenko]|-7.11462450592885...|     19|        2|    2015|\n",
      "| 20150219093000-7|2015-02-19 09:30:00|  BBC Monitoring|        [ELECTION, ]|1#Afghanistan#AF#...|    [zakaria hasani]|1.0989010989011,3...|     19|        2|    2015|\n",
      "| 20150219093000-8|2015-02-19 09:30:00|  BBC Monitoring|[LEADER, TAX_FNCA...|1#United States#P...|[arastun oruclu, ...|-2.44755244755245...|     19|        2|    2015|\n",
      "| 20150219093000-9|2015-02-19 09:30:00|  BBC Monitoring|[TAX_ETHNICITY, T...|4#Ramallah, West ...|[mahmud fadl, al-...|-5.09164969450102...|     19|        2|    2015|\n",
      "|20150219093000-10|2015-02-19 09:30:00|  BBC Monitoring|[TAX_WORLDLANGUAG...|1#Azerbaijan#AJ#A...|[vusal abusov, ma...|-7.19424460431655...|     19|        2|    2015|\n",
      "|20150219093000-11|2015-02-19 09:30:00|  BBC Monitoring|[TAX_FNCACT, TAX_...|4#Aydar, Luhans'k...|[dmytro yarosh, v...|0.78125,3.125,2.3...|     19|        2|    2015|\n",
      "|20150219093000-12|2015-02-19 09:30:00|  BBC Monitoring|[TAX_FNCACT, TAX_...|1#India#PK#IN#20#...|[ashraf ghani, ab...|-4.46685878962536...|     19|        2|    2015|\n",
      "|20150219093000-13|2015-02-19 09:30:00|  BBC Monitoring|[TAX_FNCACT, TAX_...|5#Lorestan, Lores...|[ali al-sistani, ...|-1.94805194805195...|     19|        2|    2015|\n",
      "+-----------------+-------------------+----------------+--------------------+--------------------+--------------------+--------------------+-------+---------+--------+\n",
      "only showing top 10 rows\n",
      "\n"
     ]
    },
    {
     "name": "stderr",
     "output_type": "stream",
     "text": [
      "                                                                                \r"
     ]
    }
   ],
   "source": [
    "gkg = \\\n",
    "    dfg.selectExpr(\"_c1 as GKGRECORDID\", \"_c2 as DATE\", \"_c3 as SourceCommonName\", \"_c4 as Themes\", \n",
    "               \"_c5 as Locations\", \"_c6 as Persons\", '_c7 as V2Tone') \\\n",
    "    .na.drop()\\\n",
    "    .filter(F.col('GKGRECORDID') != '0') \\\n",
    "    .withColumn('DATE', F.to_timestamp(F.col('DATE'), 'yyyMMddHHmmss'))\\\n",
    "    .withColumn('Day_gkg', F.dayofmonth(F.col('DATE'))) \\\n",
    "    .withColumn('Month_gkg', F.month(F.col('DATE'))) \\\n",
    "    .withColumn('Year_gkg', F.year(F.col('DATE'))) \\\n",
    "    .withColumn('Themes', F.split(F.col('Themes'), ';'))\\\n",
    "    .withColumn('Persons', F.split(F.col('Persons'), ';'))\n",
    "\n",
    "#.withColumn('Locations', F.regexp_replace(F.split(F.col('Locations'), '#').getItem(3),\"\\d\",''))\\\n",
    "\n",
    "gkg.show(10)"
   ]
  },
  {
   "cell_type": "markdown",
   "id": "ed0763ba",
   "metadata": {},
   "source": [
    "## Requêtes"
   ]
  },
  {
   "cell_type": "markdown",
   "id": "e5f0879b",
   "metadata": {},
   "source": [
    "### Requête 1)\n",
    "\n",
    "Afficher le nombre d’articles/évènements qu’il y a eu pour chaque triplet (jour, pays de l’évènement, langue de l’article)."
   ]
  },
  {
   "cell_type": "code",
   "execution_count": 7,
   "id": "4664bf4a",
   "metadata": {},
   "outputs": [
    {
     "name": "stderr",
     "output_type": "stream",
     "text": [
      "[Stage 13:======================================================> (41 + 1) / 42]\r"
     ]
    },
    {
     "name": "stdout",
     "output_type": "stream",
     "text": [
      "+---------------------+----------+-----+\n",
      "|ActionGeo_CountryCode|   SQLDATE|count|\n",
      "+---------------------+----------+-----+\n",
      "|                   SY|2015-01-31|   19|\n",
      "|                   MG|2015-02-27|   51|\n",
      "|                   QA|2015-02-23|  479|\n",
      "|                   FR|2015-01-22|   13|\n",
      "|                   DR|2015-02-21|   29|\n",
      "|                   SW|2015-02-19|  295|\n",
      "|                   SP|2015-02-26|  914|\n",
      "|                   VE|2015-03-04|  410|\n",
      "|                   CH|2015-02-23| 2660|\n",
      "|                   ET|2015-02-25|  244|\n",
      "+---------------------+----------+-----+\n",
      "only showing top 10 rows\n",
      "\n"
     ]
    },
    {
     "name": "stderr",
     "output_type": "stream",
     "text": [
      "                                                                                \r"
     ]
    }
   ],
   "source": [
    "requete_1 =  export \\\n",
    "    .groupby('ActionGeo_CountryCode', 'SQLDATE') \\\n",
    "    .agg(F.count('GLOBALEVENTID').alias('count')) \n",
    "\n",
    "requete_1.show(10)"
   ]
  },
  {
   "cell_type": "markdown",
   "id": "86a47dc9",
   "metadata": {},
   "source": [
    "### Requête 2)\n",
    "\n",
    "Pour un pays donné en paramètre, affichez les évènements qui y ont eu place triées par le nombre de mentions (tri décroissant); permettez une agrégation par jour/mois/année"
   ]
  },
  {
   "cell_type": "code",
   "execution_count": 8,
   "id": "4b1e4876",
   "metadata": {
    "collapsed": true
   },
   "outputs": [
    {
     "name": "stderr",
     "output_type": "stream",
     "text": [
      "[Stage 20:===================================================>    (37 + 3) / 40]\r"
     ]
    },
    {
     "name": "stdout",
     "output_type": "stream",
     "text": [
      "+----------+-------------+-----+\n",
      "|Actor1Code|GLOBALEVENTID|count|\n",
      "+----------+-------------+-----+\n",
      "|       TUR|    412380110|  738|\n",
      "|       USA|    412375992|  737|\n",
      "|    USAMED|    412116558|  644|\n",
      "|       JUD|    414062207|  621|\n",
      "|    USAMED|    414025995|  598|\n",
      "|       TUR|    412386134|  593|\n",
      "|       USA|    412383429|  587|\n",
      "|       USA|    412383430|  587|\n",
      "|       JUD|    412383419|  585|\n",
      "|       OPP|    413009589|  571|\n",
      "+----------+-------------+-----+\n",
      "only showing top 10 rows\n",
      "\n"
     ]
    },
    {
     "name": "stderr",
     "output_type": "stream",
     "text": [
      "                                                                                \r"
     ]
    }
   ],
   "source": [
    "requete_2 = mentions \\\n",
    "        .join(export, on = 'GLOBALEVENTID') \\\n",
    "        .select('GLOBALEVENTID', 'Actor1Code', 'EventTimeDate', 'Year_mentions', 'Month_mentions', 'Day_mentions') \\\n",
    "        .na.drop() \\\n",
    "        .groupby('Actor1Code', 'GLOBALEVENTID') \\\n",
    "        .agg(F.count('EventTimeDate').alias('count')) \\\n",
    "        .orderBy(F.desc('count')) \n",
    "\n",
    "requete_2.show(10)"
   ]
  },
  {
   "cell_type": "markdown",
   "id": "ddf98674",
   "metadata": {},
   "source": [
    "### Requête 3)\n",
    "\n",
    "Pour une source de donnés passée en paramètre (gkg.SourceCommonName) affichez les thèmes, personnes, lieux dont les articles de cette sources parlent ainsi que le nombre d’articles et le ton moyen des articles (pour chaque thème/personne/lieu); permettez une agrégation par jour/mois/année."
   ]
  },
  {
   "cell_type": "code",
   "execution_count": 9,
   "id": "b75732e3",
   "metadata": {},
   "outputs": [
    {
     "name": "stdout",
     "output_type": "stream",
     "text": [
      "+-------------------+----------------+--------------------+--------------------+--------------------+-----------------+--------+---------+-------+\n",
      "|               DATE|SourceCommonName|              Themes|           Locations|             Persons|           V2Tone|Year_gkg|Month_gkg|Day_gkg|\n",
      "+-------------------+----------------+--------------------+--------------------+--------------------+-----------------+--------+---------+-------+\n",
      "|2015-02-19 09:30:00|  BBC Monitoring|[GENERAL_GOVERNME...|4#Berlin, Berlin,...|    [denys pushylin]| 1.91387559808612|    2015|        2|     19|\n",
      "|2015-02-19 09:30:00|  BBC Monitoring|[MEDIA_MSM, LEADE...|3#Washington, Dis...|[barack obama, ba...|-5.40540540540541|    2015|        2|     19|\n",
      "|2015-02-19 09:30:00|  BBC Monitoring|[TERROR, ARMEDCON...|1#Russia#AF#RS#60...|  [petro poroshenko]|-7.11462450592885|    2015|        2|     19|\n",
      "|2015-02-19 09:30:00|  BBC Monitoring|        [ELECTION, ]|1#Afghanistan#AF#...|    [zakaria hasani]|  1.0989010989011|    2015|        2|     19|\n",
      "|2015-02-19 09:30:00|  BBC Monitoring|[LEADER, TAX_FNCA...|1#United States#P...|[arastun oruclu, ...|-2.44755244755245|    2015|        2|     19|\n",
      "|2015-02-19 09:30:00|  BBC Monitoring|[TAX_ETHNICITY, T...|4#Ramallah, West ...|[mahmud fadl, al-...|-5.09164969450102|    2015|        2|     19|\n",
      "|2015-02-19 09:30:00|  BBC Monitoring|[TAX_WORLDLANGUAG...|1#Azerbaijan#AJ#A...|[vusal abusov, ma...|-7.19424460431655|    2015|        2|     19|\n",
      "|2015-02-19 09:30:00|  BBC Monitoring|[TAX_FNCACT, TAX_...|4#Aydar, Luhans'k...|[dmytro yarosh, v...|          0.78125|    2015|        2|     19|\n",
      "|2015-02-19 09:30:00|  BBC Monitoring|[TAX_FNCACT, TAX_...|1#India#PK#IN#20#...|[ashraf ghani, ab...|-4.46685878962536|    2015|        2|     19|\n",
      "|2015-02-19 09:30:00|  BBC Monitoring|[TAX_FNCACT, TAX_...|5#Lorestan, Lores...|[ali al-sistani, ...|-1.94805194805195|    2015|        2|     19|\n",
      "+-------------------+----------------+--------------------+--------------------+--------------------+-----------------+--------+---------+-------+\n",
      "only showing top 10 rows\n",
      "\n"
     ]
    }
   ],
   "source": [
    "requete_3 = gkg \\\n",
    "        .withColumn('V2Tone', F.split(F.col('V2Tone'), ',').getItem(0)) \\\n",
    "        .select('DATE', 'SourceCommonName', 'Themes', 'Locations', 'Persons', 'V2Tone', 'Year_gkg', 'Month_gkg', 'Day_gkg')\n",
    "\n",
    "requete_3.show(10)"
   ]
  },
  {
   "cell_type": "markdown",
   "id": "da82aae1",
   "metadata": {},
   "source": [
    "### Requête 4) \n",
    "\n",
    "Étudiez l’évolution des relations entre deux pays (specifies en paramètre) au cours de l’année. Vous pouvez vous baser sur la langue de l’article, le ton moyen des articles, les themes plus souvent citées, les personalités ou tout element qui vous semble pertinent."
   ]
  },
  {
   "cell_type": "code",
   "execution_count": 9,
   "id": "83252dbe",
   "metadata": {
    "scrolled": true
   },
   "outputs": [
    {
     "name": "stderr",
     "output_type": "stream",
     "text": [
      "[Stage 26:=====================================================>  (18 + 1) / 19]\r"
     ]
    },
    {
     "name": "stdout",
     "output_type": "stream",
     "text": [
      "+-----+---+------------+--------------------+\n",
      "|month|day|country_pair|          avg_V2tone|\n",
      "+-----+---+------------+--------------------+\n",
      "|    3|  2|    [AE, AE]|  0.5487471482889731|\n",
      "|    2| 22|    [AE, MU]|   3.356333333333333|\n",
      "|    2| 22|    [AE, MX]|               1.749|\n",
      "|    2| 23|    [AE, SP]|               1.692|\n",
      "|    2| 26|    [AF, GM]| -0.2873333333333334|\n",
      "|    2| 25|    [AF, GM]| -3.9320000000000004|\n",
      "|    2| 26|   [AF, UKR]|              -4.724|\n",
      "|    2| 19|   [AG, RPD]|               1.682|\n",
      "|    2| 23|  [AG, USNY]|              -8.543|\n",
      "|    2| 19|    [AL, AS]|               2.496|\n",
      "|    2| 25|    [AL, JA]|              -1.615|\n",
      "|    2| 24|    [AM, RS]| -1.9733333333333332|\n",
      "|    2| 21|  [AO, USVT]|               0.262|\n",
      "|    3|  1|    [AQ, WS]|              -1.145|\n",
      "|    2| 21|    [AR, CD]|              -4.582|\n",
      "|    2| 26|    [AR, US]|  1.3786923076923072|\n",
      "|    2| 23|  [AR, USDC]| -1.9340285714285719|\n",
      "|    2| 27|    [AC, CA]|              -1.142|\n",
      "|    2| 26|   [AC, UKH]|               1.822|\n",
      "|    2| 22|    [AE, AE]|-0.13989449541284385|\n",
      "+-----+---+------------+--------------------+\n",
      "only showing top 20 rows\n",
      "\n"
     ]
    },
    {
     "name": "stderr",
     "output_type": "stream",
     "text": [
      "                                                                                \r"
     ]
    }
   ],
   "source": [
    "requete_4_bis = gkg \\\n",
    "        .withColumn('V2Tone', F.split(F.col('V2Tone'), ',').getItem(0)) \\\n",
    "        .withColumn('country2', F.regexp_replace(F.split(F.col('Locations'), '#').getItem(3),\"\\d\",''))\\\n",
    "        .withColumn('country1', F.regexp_replace(F.split(F.col('Locations'), '#').getItem(2),\"\\d\",''))\\\n",
    "        .withColumn('V2Tone', F.round(F.col('V2Tone'), 3)) \\\n",
    "        .select('DATE', 'V2Tone', 'country1', 'country2') \\\n",
    "        .sort(F.col('country1'), F.col('country2')) \\\n",
    "        .filter(F.col('country1') != '') \\\n",
    "        .withColumn('country_pair', F.split(F.concat_ws('_', F.col('country1'), F.col('country2')), \"_\")) \\\n",
    "        .withColumn('country_pair', F.sort_array(F.col('country_pair'))) \\\n",
    "        .withColumn('day', F.dayofmonth(F.col('DATE'))) \\\n",
    "        .withColumn('month', F.month(F.col('DATE'))) \\\n",
    "        .groupby('month','day','country_pair') \\\n",
    "        .agg(F.mean('V2Tone').alias('avg_V2tone')) \\\n",
    "        .na.drop() \\\n",
    "        \n",
    "#.filter((F.col('country1') != '')) \\\n",
    "\n",
    "requete_4_bis.show()"
   ]
  },
  {
   "cell_type": "markdown",
   "id": "2f5a424e",
   "metadata": {},
   "source": [
    "### Requête4"
   ]
  },
  {
   "cell_type": "code",
   "execution_count": null,
   "id": "5d3c54de",
   "metadata": {},
   "outputs": [],
   "source": [
    "\"\"\"dfg_req4 = gkg.select(\"DATE\", \"SourceCommonName\", \"Themes\", \"Persons\", \"Locations\", \"V2Tone\") \\\n",
    "    .withColumn('date', F.date_format(F.col('DATE'), 'yyyy-MM-dd')) \\\n",
    "    .withColumn('V2Tone', F.split(F.col('V2Tone'), ',').getItem(0)) \\\n",
    "    .withColumn('Themes', F.array_remove(F.col('Themes'), \"\")) \n",
    "\n",
    "total_freq_per_loca_th = dfg_req4 \\\n",
    "    .select(\"Locations\", \"Themes\") \\\n",
    "    .withColumn('theme_value', F.explode(F.col('Themes'))) \\\n",
    "    .groupby(\"Locations\") \\\n",
    "    .agg(F.count('theme_value').alias('total_frequence')) \\\n",
    "    .orderBy(\"Locations\",'total_frequence')\n",
    "\n",
    "requete_4 = dfg_req4 \\\n",
    "    .select(\"Locations\", \"Themes\", \"date\") \\\n",
    "    .withColumn('theme_value', F.explode(F.col('Themes'))) \\\n",
    "    .groupby(\"Locations\", \"date\", \"theme_value\") \\\n",
    "    .count() \\\n",
    "    .join(total_freq_per_loca_th, on = ['Locations']) \\\n",
    "    .withColumn('perc_frequence_th', F.format_string('%.5f', F.col('count') / F.col('total_frequence'))) \\\n",
    "    .select('date', F.col('Locations').alias('locations'), F.col('theme_value').alias('themes'), 'perc_frequence_th') \\\n",
    "    .withColumn('date', F.to_date(F.col('date'))) \\\n",
    "    .sort(F.col('perc_frequence_th').desc(), F.col('date').asc()) \\\n",
    "    .na.drop() \n",
    "\n",
    "requete_4.show(truncate = False, n = 10)\"\"\""
   ]
  },
  {
   "cell_type": "markdown",
   "id": "54158f88",
   "metadata": {},
   "source": [
    "## Push des dataframes (requete1, requete2, requete3 et requete4, requete4bis) sur notre cluster MongoDB\n",
    "\n",
    "### On obtient par exemple sur mongoDB dans la base de données gdelt la collection requete1"
   ]
  },
  {
   "cell_type": "code",
   "execution_count": 20,
   "id": "1c7e07cb",
   "metadata": {},
   "outputs": [
    {
     "name": "stderr",
     "output_type": "stream",
     "text": [
      "                                                                                \r"
     ]
    }
   ],
   "source": [
    "### REQUETE 1 \n",
    "requete_1 \\\n",
    "    .write \\\n",
    "    .format(\"com.mongodb.spark.sql.DefaultSource\") \\\n",
    "    .option(\"uri\", \"mongodb://192.168.3.99:27019/gdelt.requete1\") \\\n",
    "    .mode(\"append\") \\\n",
    "    .save()"
   ]
  },
  {
   "cell_type": "code",
   "execution_count": 24,
   "id": "d3ebe281",
   "metadata": {},
   "outputs": [
    {
     "name": "stderr",
     "output_type": "stream",
     "text": [
      "                                                                                \r"
     ]
    }
   ],
   "source": [
    "### REQUETE 2 \n",
    "requete_2 \\\n",
    "    .write \\\n",
    "    .format(\"com.mongodb.spark.sql.DefaultSource\") \\\n",
    "    .option(\"uri\", \"mongodb://192.168.3.99:27019/gdelt.requete2\") \\\n",
    "    .mode(\"append\") \\\n",
    "    .save()"
   ]
  },
  {
   "cell_type": "code",
   "execution_count": 27,
   "id": "97761caa",
   "metadata": {},
   "outputs": [
    {
     "name": "stderr",
     "output_type": "stream",
     "text": [
      "                                                                                \r"
     ]
    }
   ],
   "source": [
    "### REQUETE 3\n",
    "requete_3 \\\n",
    "    .write \\\n",
    "    .format(\"com.mongodb.spark.sql.DefaultSource\") \\\n",
    "    .option(\"uri\", \"mongodb://192.168.3.99:27019/gdelt.requete3\") \\\n",
    "    .mode(\"append\") \\\n",
    "    .save()"
   ]
  },
  {
   "cell_type": "code",
   "execution_count": 28,
   "id": "a3915f9c",
   "metadata": {},
   "outputs": [
    {
     "name": "stderr",
     "output_type": "stream",
     "text": [
      "                                                                                \r"
     ]
    }
   ],
   "source": [
    "### REQUETE 4\n",
    "requete_4 \\\n",
    "    .write \\\n",
    "    .format(\"com.mongodb.spark.sql.DefaultSource\") \\\n",
    "    .option(\"uri\", \"mongodb://192.168.3.99:27019/gdelt.requete4\") \\\n",
    "    .mode(\"append\") \\\n",
    "    .save() "
   ]
  },
  {
   "cell_type": "code",
   "execution_count": 10,
   "id": "f3cb3a6f",
   "metadata": {},
   "outputs": [
    {
     "name": "stderr",
     "output_type": "stream",
     "text": [
      "                                                                                \r"
     ]
    }
   ],
   "source": [
    "### REQUETE 4 BIS\n",
    "requete_4_bis \\\n",
    "    .write \\\n",
    "    .format(\"com.mongodb.spark.sql.DefaultSource\") \\\n",
    "    .option(\"uri\", \"mongodb://192.168.3.99:27019/gdelt.requete4bis\") \\\n",
    "    .mode(\"append\") \\\n",
    "    .save() "
   ]
  },
  {
   "cell_type": "code",
   "execution_count": null,
   "id": "55445df5",
   "metadata": {},
   "outputs": [],
   "source": [
    "\"\"\"total_freq_per_loca_pe = dfg_req3 \\\n",
    "    .select('Locations', 'Persons') \\\n",
    "    .withColumn('theme_value', F.explode(F.col('Persons'))) \\\n",
    "    .groupby('Locations') \\\n",
    "    .agg(F.count('Persons').alias('total_frequence')) \\\n",
    "    .orderBy('Locations', 'total_frequence')\n",
    "\n",
    "person_perc_per_loc = dfg_req3 \\\n",
    "    .select('Locations', 'Persons') \\\n",
    "    .withColumn('names', F.explode(F.col('Persons'))) \\\n",
    "    .groupby('Locations', 'names') \\\n",
    "    .count() \\\n",
    "    .join(total_freq_per_loca_pe, on = \"Locations\") \\\n",
    "    .withColumn('perc_frequence_pe', F.format_string('%.5f', F.col('count') / F.col('total_frequence'))) \\\n",
    "    .select(F.col('Locations').alias('locations'), 'names', 'perc_frequence_pe')\n",
    "\"\"\"\n",
    "\n",
    "\n",
    "\n",
    "\"\"\"dfg_req4 = gkg.select(\"DATE\", \"SourceCommonName\", \"Themes\", \"Persons\", \"Locations\", \"V2Tone\") \\\n",
    "    .withColumn('date', F.date_format(F.col('DATE'), 'yyyy-MM-dd')) \\\n",
    "    .withColumn('V2Tone', F.split(F.col('V2Tone'), ',').getItem(0)) \\\n",
    "    .withColumn('Themes', F.array_remove(F.col('Themes'), \"\")) \n",
    "\n",
    "total_freq_per_loca_th = dfg_req4 \\\n",
    "    .select(\"Locations\", \"Themes\") \\\n",
    "    .withColumn('theme_value', F.explode(F.col('Themes'))) \\\n",
    "    .groupby(\"Locations\") \\\n",
    "    .agg(F.count('theme_value').alias('total_frequence')) \\\n",
    "    .orderBy(\"Locations\",'total_frequence')\n",
    "\n",
    "requete_4 = dfg_req4 \\\n",
    "    .select(\"Locations\", \"Themes\", \"date\") \\\n",
    "    .withColumn('theme_value', F.explode(F.col('Themes'))) \\\n",
    "    .groupby(\"Locations\", \"date\", \"theme_value\") \\\n",
    "    .count() \\\n",
    "    .join(total_freq_per_loca_th, on = ['Locations']) \\\n",
    "    .withColumn('perc_frequence_th', F.format_string('%.5f', F.col('count') / F.col('total_frequence'))) \\\n",
    "    .select('date', F.col('Locations').alias('locations'), F.col('theme_value').alias('themes'), 'perc_frequence_th') \\\n",
    "    .withColumn('date', F.to_date(F.col('date'))) \\\n",
    "    .sort(F.col('perc_frequence_th').desc(), F.col('date').asc()) \\\n",
    "    .na.drop() \n",
    "\n",
    "requete_4.show(truncate = False, n = 10)\"\"\""
   ]
  }
 ],
 "metadata": {
  "kernelspec": {
   "display_name": "Python 3 (ipykernel)",
   "language": "python",
   "name": "python3"
  },
  "language_info": {
   "codemirror_mode": {
    "name": "ipython",
    "version": 3
   },
   "file_extension": ".py",
   "mimetype": "text/x-python",
   "name": "python",
   "nbconvert_exporter": "python",
   "pygments_lexer": "ipython3",
   "version": "3.10.6"
  }
 },
 "nbformat": 4,
 "nbformat_minor": 5
}
